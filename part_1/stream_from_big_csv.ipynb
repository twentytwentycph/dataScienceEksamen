{
 "cells": [
  {
   "cell_type": "code",
   "execution_count": 6,
   "metadata": {},
   "outputs": [
    {
     "ename": "Error",
     "evalue": "field larger than field limit (131072)",
     "output_type": "error",
     "traceback": [
      "\u001b[0;31m---------------------------------------------------------------------------\u001b[0m",
      "\u001b[0;31mError\u001b[0m                                     Traceback (most recent call last)",
      "Cell \u001b[0;32mIn[6], line 25\u001b[0m\n\u001b[1;32m     22\u001b[0m writer\u001b[39m.\u001b[39mwriterow(header_row)\n\u001b[1;32m     24\u001b[0m \u001b[39m# Iterate through the input file and write filtered rows to the output file\u001b[39;00m\n\u001b[0;32m---> 25\u001b[0m \u001b[39mfor\u001b[39;00m row \u001b[39min\u001b[39;00m reader:\n\u001b[1;32m     26\u001b[0m     \u001b[39m# Select rows with a probability approximating the target output size\u001b[39;00m\n\u001b[1;32m     27\u001b[0m     \u001b[39mif\u001b[39;00m random\u001b[39m.\u001b[39mrandom() \u001b[39m<\u001b[39m approx_ratio:\n\u001b[1;32m     28\u001b[0m         writer\u001b[39m.\u001b[39mwriterow(row)\n",
      "\u001b[0;31mError\u001b[0m: field larger than field limit (131072)"
     ]
    }
   ],
   "source": [
    "import csv\n",
    "import os\n",
    "import random\n",
    "\n",
    "input_file = ' '\n",
    "output_file = ' '\n",
    "\n",
    "input_size = os.path.getsize(input_file)  # Get the input file size in bytes\n",
    "target_size = 500 * 1024**2 # Target output file size (10GB)\n",
    "approx_ratio = target_size / input_size\n",
    "\n",
    "# Read the input CSV file line by line\n",
    "with open(input_file, 'r', newline='', encoding='utf-8') as in_file:\n",
    "    reader = csv.reader(in_file)\n",
    "\n",
    "    # Write the filtered rows to the output CSV file\n",
    "    with open(output_file, 'w', newline='', encoding='utf-8') as out_file:\n",
    "        writer = csv.writer(out_file)\n",
    "\n",
    "        # Write the header row (column names) to the output file\n",
    "        header_row = next(reader)\n",
    "        writer.writerow(header_row)\n",
    "\n",
    "        # Iterate through the input file and write filtered rows to the output file\n",
    "        for row in reader:\n",
    "            # Select rows with a probability approximating the target output size\n",
    "            if random.random() < approx_ratio:\n",
    "                writer.writerow(row)\n"
   ]
  }
 ],
 "metadata": {
  "kernelspec": {
   "display_name": "base",
   "language": "python",
   "name": "python3"
  },
  "language_info": {
   "codemirror_mode": {
    "name": "ipython",
    "version": 3
   },
   "file_extension": ".py",
   "mimetype": "text/x-python",
   "name": "python",
   "nbconvert_exporter": "python",
   "pygments_lexer": "ipython3",
   "version": "3.10.8"
  },
  "orig_nbformat": 4
 },
 "nbformat": 4,
 "nbformat_minor": 2
}
