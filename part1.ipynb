{
 "cells": [
  {
   "cell_type": "code",
   "execution_count": 1,
   "metadata": {},
   "outputs": [
    {
     "name": "stdout",
     "output_type": "stream",
     "text": [
      "     Unnamed: 0     id                    domain  type  \\\n",
      "100         100  17247         beforeitsnews.com  fake   \n",
      "101         101  17495         beforeitsnews.com  fake   \n",
      "102         102  17497         beforeitsnews.com  fake   \n",
      "103         103  17604  willyloman.wordpress.com   NaN   \n",
      "104         104  17798         beforeitsnews.com  fake   \n",
      "\n",
      "                                                   url  \\\n",
      "100  http://beforeitsnews.com/libertarian/2015/04/g...   \n",
      "101  http://beforeitsnews.com/business/2016/02/7-mo...   \n",
      "102  http://beforeitsnews.com/business/2016/02/3-ar...   \n",
      "103  https://willyloman.wordpress.com/category/stev...   \n",
      "104  http://beforeitsnews.com/business/2015/12/buye...   \n",
      "\n",
      "                                               content  \\\n",
      "100  GreenMedInfo – Action Item link\\n\\n% of reader...   \n",
      "101  7 Most Annoying Twitter Auto DMs\\n\\nHeadline: ...   \n",
      "102  3 articles founders can read to understand the...   \n",
      "103  Posted on by willyloman\\n\\nby Scott Creighton\\...   \n",
      "104  Buyer of BTC.com for $1million Charged with Op...   \n",
      "\n",
      "                     scraped_at                 inserted_at  \\\n",
      "100  2018-01-25 16:17:44.789555  2018-02-02 01:19:41.756632   \n",
      "101  2018-01-25 16:17:44.789555  2018-02-02 01:19:41.756632   \n",
      "102  2018-01-25 16:17:44.789555  2018-02-02 01:19:41.756632   \n",
      "103  2018-01-25 16:17:44.789555  2018-02-02 01:19:41.756632   \n",
      "104  2018-01-25 16:17:44.789555  2018-02-02 01:19:41.756632   \n",
      "\n",
      "                     updated_at  \\\n",
      "100  2018-02-02 01:19:41.756664   \n",
      "101  2018-02-02 01:19:41.756664   \n",
      "102  2018-02-02 01:19:41.756664   \n",
      "103  2018-02-02 01:19:41.756664   \n",
      "104  2018-02-02 01:19:41.756664   \n",
      "\n",
      "                                                 title        authors  \\\n",
      "100                    GreenMedInfo – Action Item link    Downsize Dc   \n",
      "101                   7 Most Annoying Twitter Auto DMs  Morgan Linton   \n",
      "102  3 articles founders can read to understand the...  Morgan Linton   \n",
      "103                                  American Everyman            NaN   \n",
      "104  Buyer of BTC.com for $1million Charged with Op...  Morgan Linton   \n",
      "\n",
      "     keywords meta_keywords                                  meta_description  \\\n",
      "100       NaN          ['']                                               NaN   \n",
      "101       NaN          ['']                                               NaN   \n",
      "102       NaN          ['']                                               NaN   \n",
      "103       NaN          ['']  Posts about Steven Crowder written by willyloman   \n",
      "104       NaN          ['']                                               NaN   \n",
      "\n",
      "    tags  summary  \n",
      "100  NaN      NaN  \n",
      "101  NaN      NaN  \n",
      "102  NaN      NaN  \n",
      "103  NaN      NaN  \n",
      "104  NaN      NaN  \n"
     ]
    }
   ],
   "source": [
    "import pandas as pd\n",
    "\n",
    "\n",
    "data = \"https://raw.githubusercontent.com/several27/FakeNewsCorpus/master/news_sample.csv\"\n",
    "data_frame = pd.read_csv(data)\n",
    "\n",
    "\n",
    "subset_data_frame = data_frame.loc[100:200]\n",
    "print(subset_data_frame.head())"
   ]
  }
 ],
 "metadata": {
  "kernelspec": {
   "display_name": "base",
   "language": "python",
   "name": "python3"
  },
  "language_info": {
   "codemirror_mode": {
    "name": "ipython",
    "version": 3
   },
   "file_extension": ".py",
   "mimetype": "text/x-python",
   "name": "python",
   "nbconvert_exporter": "python",
   "pygments_lexer": "ipython3",
   "version": "3.10.8"
  },
  "orig_nbformat": 4,
  "vscode": {
   "interpreter": {
    "hash": "edf8dab1f0b232037e2718d4820598a146633498d561acfb64ff8b73379e2811"
   }
  }
 },
 "nbformat": 4,
 "nbformat_minor": 2
}
