{
 "cells": [
  {
   "attachments": {},
   "cell_type": "markdown",
   "metadata": {},
   "source": [
    "### Part 3\n",
    "Advanced Model. Create the best fake news predictor.\n",
    "You might consider using a Support Vector Machine, a Naive Bayes Classifier, or a neural network. \n",
    "The input features might use a more complex test representations, such as TF-IDF weights or continuous word embeddings.\n",
    "- Report necessary details about your models ensuring full reproducibility.\n",
    "    - For example, choice of relevant parameters and how you chose them. \n",
    "    - Make sure to argue for why you chose this approach over potential alternatives."
   ]
  },
  {
   "cell_type": "code",
   "execution_count": null,
   "metadata": {},
   "outputs": [],
   "source": [
    "import pandas as pd\n",
    "from scipy import sparse\n",
    "from scipy.sparse import hstack\n",
    "from sklearn.model_selection import train_test_split\n",
    "from sklearn import datasets\n",
    "from sklearn import svm\n",
    "import numpy as np\n",
    "from sklearn.feature_extraction.text import TfidfVectorizer "
   ]
  },
  {
   "cell_type": "code",
   "execution_count": null,
   "metadata": {},
   "outputs": [],
   "source": [
    "content = sparse.load_npz('csv/sparse_matrix_for_text.npz')\n",
    "title = sparse.load_npz('csv/sparse_matrix_for_title.npz') \n",
    "\n",
    "collected_matrix = hstack([content,title]) \n",
    "sparse.save_npz(\"csv/sparse_matrix_for_all.npz\", collected_matrix)\n",
    "\n",
    "labels = pd.read_csv('csv/labels.csv')\n",
    "features = sparse.load_npz('csv/sparse_matrix_for_all.npz')\n",
    "\n"
   ]
  },
  {
   "cell_type": "code",
   "execution_count": null,
   "metadata": {},
   "outputs": [],
   "source": [
    "X = features\n",
    "y = labels \n",
    "y = np.ravel(y)\n",
    "y"
   ]
  },
  {
   "cell_type": "code",
   "execution_count": null,
   "metadata": {},
   "outputs": [],
   "source": [
    "from sklearn.model_selection import train_test_split\n",
    "from sklearn.naive_bayes import MultinomialNB\n",
    "from sklearn.naive_bayes import ComplementNB\n",
    "from sklearn.metrics import accuracy_score\n",
    "from sklearn.metrics import classification_report \n",
    "from imblearn.over_sampling import RandomOverSampler \n",
    "\n",
    "X_train, X_test, y_train, y_test = train_test_split(X, y, test_size=0.2, random_state=0)\n",
    "X_train, X_val, y_train, y_val = train_test_split(X_train, y_train, test_size=0.5, random_state=0)\n",
    "\n",
    "oversampler = RandomOverSampler(random_state=0)\n",
    "X_train_oversampled, y_train_oversampled = oversampler.fit_resample(X_train, y_train)\n",
    "\n",
    "model = ComplementNB() \n",
    "model.fit(X_train_oversampled, y_train_oversampled)\n",
    "\n",
    "print(model.score(X_train_oversampled, y_train_oversampled))\n",
    "print(model.score(X_val, y_val))\n",
    "\n",
    "predictions_NB = model.predict(X_val)\n",
    "\n",
    "print(\"Naive Bayes Accuracy Score -> \",accuracy_score(predictions_NB, y_val)*100)\n",
    "\n",
    "y_val_pred = model.predict(X_val) \n",
    "\n",
    "report = classification_report(y_val, y_val_pred)\n",
    "print(\"classification report:\")\n",
    "print(report)"
   ]
  },
  {
   "cell_type": "code",
   "execution_count": null,
   "metadata": {},
   "outputs": [],
   "source": [
    "from sklearn.naive_bayes import ComplementNB\n",
    "\n",
    "# Define the parameter grid for the grid search\n",
    "param_grid = [0.00001,0.0001,0.001, 0.01,0.1,1,10,100,1000,10000]\n",
    "\n",
    "# Initialize the best_C and best_score variables\n",
    "best_alpha = None\n",
    "best_score = 0\n",
    "\n",
    "for pg in param_grid:\n",
    "    model = ComplementNB(alpha=pg)\n",
    "    \n",
    "    model.fit(X_train_oversampled, y_train_oversampled)\n",
    "    \n",
    "    y_val_pred = model.predict(X_val)\n",
    "    \n",
    "    # Calculate the accuracy score for the current C value\n",
    "    score = accuracy_score(y_val, y_val_pred)\n",
    "    \n",
    "    # Print the current C value and its accuracy score\n",
    "    print(f\"alpha: {pg}, Accuracy: {score}\")\n",
    "    \n",
    "    # Update the best_C and best_score variables if the current score is higher than the previous best\n",
    "    if score > best_score:\n",
    "        best_alpha = pg\n",
    "        best_score = score\n",
    "    \n",
    "# Print the best C value and its accuracy score\n",
    "print(f\"\\nBest alpha: {best_alpha}, Best Accuracy: {best_score}\")\n",
    "    "
   ]
  }
 ],
 "metadata": {
  "kernelspec": {
   "display_name": "Python 3",
   "language": "python",
   "name": "python3"
  },
  "language_info": {
   "name": "python",
   "version": "3.10.6"
  },
  "orig_nbformat": 4
 },
 "nbformat": 4,
 "nbformat_minor": 2
}
