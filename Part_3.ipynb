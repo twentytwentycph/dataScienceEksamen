{
 "cells": [
  {
   "attachments": {},
   "cell_type": "markdown",
   "metadata": {},
   "source": [
    "### Part 3\n",
    "Advanced Model. Create the best fake news predictor.\n",
    "You might consider using a Support Vector Machine, a Naive Bayes Classifier, or a neural network. \n",
    "The input features might use a more complex test representations, such as TF-IDF weights or continuous word embeddings.\n",
    "- Report necessary details about your models ensuring full reproducibility.\n",
    "    - For example, choice of relevant parameters and how you chose them. \n",
    "    - Make sure to argue for why you chose this approach over potential alternatives."
   ]
  },
  {
   "cell_type": "code",
   "execution_count": null,
   "metadata": {},
   "outputs": [],
   "source": [
    "### Code ###"
   ]
  }
 ],
 "metadata": {
  "kernelspec": {
   "display_name": "Python 3",
   "language": "python",
   "name": "python3"
  },
  "language_info": {
   "name": "python",
   "version": "3.10.6"
  },
  "orig_nbformat": 4
 },
 "nbformat": 4,
 "nbformat_minor": 2
}
