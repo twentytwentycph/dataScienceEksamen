{
 "cells": [
  {
   "cell_type": "code",
   "execution_count": 8,
   "metadata": {},
   "outputs": [
    {
     "name": "stdout",
     "output_type": "stream",
     "text": [
      "Column names: ['Unnamed: 0', 'id', 'domain', 'type', 'url', 'content', 'scraped_at', 'inserted_at', 'updated_at', 'title', 'authors', 'keywords', 'meta_keywords', 'meta_description', 'tags', 'summary']\n"
     ]
    }
   ],
   "source": [
    "import pandas as pd\n",
    "\n",
    "url = \"https://raw.githubusercontent.com/several27/FakeNewsCorpus/master/news_sample.csv\"\n",
    "\n",
    "df = pd.read_csv(url)\n",
    "\n",
    "print(\"Column names:\", list(df.columns))"
   ]
  },
  {
   "cell_type": "code",
   "execution_count": 14,
   "metadata": {},
   "outputs": [
    {
     "name": "stdout",
     "output_type": "stream",
     "text": [
      "Unnamed: 0          250\n",
      "id                  250\n",
      "domain               29\n",
      "type                 10\n",
      "url                 250\n",
      "content             239\n",
      "scraped_at            2\n",
      "inserted_at           1\n",
      "updated_at            1\n",
      "title               248\n",
      "authors             109\n",
      "keywords              0\n",
      "meta_keywords        36\n",
      "meta_description     51\n",
      "tags                 24\n",
      "summary               0\n",
      "dtype: int64\n",
      "Total unique non-null values in the DataFrame: 1500\n"
     ]
    }
   ],
   "source": [
    "import pandas as pd\n",
    "\n",
    "url = \"https://raw.githubusercontent.com/several27/FakeNewsCorpus/master/news_sample.csv\"\n",
    "\n",
    "df = pd.read_csv(url)\n",
    "\n",
    "num_unique_vals = df.nunique()\n",
    "print(num_unique_vals)\n",
    "\n",
    "\n",
    "total_unique_vals = num_unique_vals.sum()\n",
    "\n",
    "print(\"Total unique non-null values in the DataFrame:\", total_unique_vals)\n",
    "\n"
   ]
  },
  {
   "cell_type": "code",
   "execution_count": 19,
   "metadata": {},
   "outputs": [
    {
     "name": "stdout",
     "output_type": "stream",
     "text": [
      "Total number of URLs: 502\n"
     ]
    }
   ],
   "source": [
    "import pandas as pd\n",
    "import re\n",
    "\n",
    "url = \"https://raw.githubusercontent.com/several27/FakeNewsCorpus/master/news_sample.csv\"\n",
    "\n",
    "df = pd.read_csv(url)\n",
    "\n",
    "def count_urls(cell):\n",
    "    urls = re.findall('https?://(?:[-\\w.]|(?:%[\\da-fA-F]{2}))+|www\\.(?:[-\\w.]|(?:%[\\da-fA-F]{2}))+', str(cell))\n",
    "    return len(urls)\n",
    "\n",
    "num_urls = df.select_dtypes(include=[object]).applymap(count_urls).sum().sum()\n",
    "\n",
    "print(\"Total number of URLs:\", num_urls)\n"
   ]
  },
  {
   "cell_type": "code",
   "execution_count": 21,
   "metadata": {},
   "outputs": [
    {
     "name": "stdout",
     "output_type": "stream",
     "text": [
      "Total number of dates: 840\n"
     ]
    }
   ],
   "source": [
    "import pandas as pd\n",
    "import re\n",
    "\n",
    "url = \"https://raw.githubusercontent.com/several27/FakeNewsCorpus/master/news_sample.csv\"\n",
    "\n",
    "df = pd.read_csv(url)\n",
    "\n",
    "def count_dates(cell):\n",
    "    date_pattern = re.compile(r'(\\d{4}-\\d{2}-\\d{2} \\d{2}:\\d{2}:\\d{2}.\\d{6})|'            # YYYY-MM-DD HH:MM:SS.MMMMMM\n",
    "                          r'(\\d{4}-\\d{2}-\\d{2} \\d{2}:\\d{2}:\\d{2})|'                      # YYYY-MM-DD HH:MM:SS\n",
    "                          r'(\\d{4}-\\d{2}-\\d{2})|'                                        # YYYY-MM-DD\n",
    "                          r'(\\d{4}\\.\\d{2}\\.\\d{2})|'                                      # YYYY.MM.DD \n",
    "                          r'(\\d{2}\\.\\d{2}\\.\\d{4})|'                                      # DD.MM.YYYY\n",
    "                          r'(\\d{4}/\\d{2}/\\d{2})|'                                        # YYYY/MM/DD\n",
    "                          r'(\\d{2}/\\d{2}/\\d{4})|'                                        # DD/MM/YYYY\n",
    "                          r'((january|february|march|april|june|july|august|september|'  # <Month> DD YYYY\n",
    "                          r'october|november|december) \\d{2}, \\d{4})', re.IGNORECASE)\n",
    "    dates = re.findall(date_pattern, str(cell))\n",
    "    return len(dates)\n",
    "\n",
    "num_dates = df.select_dtypes(include=[object]).applymap(count_dates).sum().sum()\n",
    "\n",
    "print(\"Total number of dates:\", num_dates)  \n",
    "\n"
   ]
  }
 ],
 "metadata": {
  "kernelspec": {
   "display_name": "Python 3.10.9 ('base')",
   "language": "python",
   "name": "python3"
  },
  "language_info": {
   "codemirror_mode": {
    "name": "ipython",
    "version": 3
   },
   "file_extension": ".py",
   "mimetype": "text/x-python",
   "name": "python",
   "nbconvert_exporter": "python",
   "pygments_lexer": "ipython3",
   "version": "3.10.9"
  },
  "orig_nbformat": 4,
  "vscode": {
   "interpreter": {
    "hash": "ac815b6fa70f69a75e0dedbb655cc5cfc21b9040b5226b380da634f4871a48e7"
   }
  }
 },
 "nbformat": 4,
 "nbformat_minor": 2
}
