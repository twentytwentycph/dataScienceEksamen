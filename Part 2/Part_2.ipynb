{
 "cells": [
  {
   "attachments": {},
   "cell_type": "markdown",
   "metadata": {},
   "source": [
    "### Part 2\n",
    "Create one or more reasonable baselines for Fake News predictor. Aim to train a binary classification model that can predict whether an article is reliable or fake"
   ]
  },
  {
   "attachments": {},
   "cell_type": "markdown",
   "metadata": {},
   "source": [
    "### Task #0\n",
    "- Discuss how you grouped the labels into two groups. \n",
    "- Are there any limitations that could arise from the decision we've made when grouping the labels"
   ]
  },
  {
   "attachments": {},
   "cell_type": "markdown",
   "metadata": {},
   "source": [
    "1. We've grouped the labels into two groups, 'content' and 'type', to optimize our fake news predictor in defining whether the article is reliable or unreliable. \n",
    "2. The decision to group labels into two groups can have limitations, primarily if the labels have overlapping information. This doesn't seem to be the case in our situation, \n",
    "3. So we tried to label it as reliable and fake, but we came across the problem that we had stemmed 'reliable' so it could not label all the articles, so we made a if statement instead"
   ]
  },
  {
   "attachments": {},
   "cell_type": "markdown",
   "metadata": {},
   "source": [
    "### Task #1\n",
    "- Start by considering only features extracted from 'content' column. \n",
    "- Choose one or more simple baseline models, train them, and report accuracies. \n",
    "- Report necessary details about baseline models (choice of relevant parameters and how you chose them). \n",
    "- Describe why you chose these baseline models - why are they reasonable?"
   ]
  },
  {
   "cell_type": "code",
   "execution_count": 14,
   "metadata": {},
   "outputs": [],
   "source": [
    "# Import the necessary libraries\n",
    "import pandas as pd"
   ]
  },
  {
   "cell_type": "code",
   "execution_count": 15,
   "metadata": {},
   "outputs": [],
   "source": [
    "# Define a function to modify the 'type' column values\n",
    "# This function is used to simplify the classification problem\n",
    "# The 'reliable' and 'political' types are combined into a single 'reliable' type\n",
    "def modify_type(y):\n",
    "    if y == 1.0:\n",
    "        return 'reliable'\n",
    "    else:\n",
    "        return 'fake'"
   ]
  },
  {
   "cell_type": "code",
   "execution_count": 16,
   "metadata": {},
   "outputs": [],
   "source": [
    "# Define X and y as the 'content' and 'type' columns\n",
    "X = pd.read_csv('CLEANED_features_output.csv', usecols=['content'])\n",
    "y = pd.read_csv('labels_output.csv', usecols=['type'])"
   ]
  },
  {
   "cell_type": "code",
   "execution_count": 17,
   "metadata": {},
   "outputs": [],
   "source": [
    "# Apply the modify_type function to the 'type' column using the map function\n",
    "y['type'] = y['type'].map(modify_type)"
   ]
  },
  {
   "cell_type": "code",
   "execution_count": 18,
   "metadata": {},
   "outputs": [],
   "source": [
    "# Split the data into train and test sets\n",
    "# In an 80/10/10 split\n",
    "\n",
    "from sklearn.model_selection import train_test_split\n",
    "X_train, X_test, y_train, y_test = train_test_split(X, y, test_size=0.2, random_state=0)\n",
    "X_train, X_val, y_train, y_val = train_test_split(X_train, y_train, test_size=0.5, random_state=0)"
   ]
  },
  {
   "cell_type": "code",
   "execution_count": 19,
   "metadata": {},
   "outputs": [],
   "source": [
    "from sklearn.feature_extraction.text import TfidfVectorizer\n",
    "import numpy as np\n",
    "\n",
    "# Create a TfidfVectorizer object for use in feature extraction\n",
    "vectorization = TfidfVectorizer()\n",
    "\n",
    "# Fit the vectorizer to the training data and transform the training data into a vector\n",
    "# As well as the validation data\n",
    "xv_train = vectorization.fit_transform(X_train['content'])\n",
    "xv_val = vectorization.transform(X_val['content'])\n",
    "y_train = np.ravel(y_train)"
   ]
  },
  {
   "cell_type": "code",
   "execution_count": 21,
   "metadata": {},
   "outputs": [
    {
     "name": "stdout",
     "output_type": "stream",
     "text": [
      "C: 0.001, Accuracy: 0.7945742105403176\n",
      "C: 0.01, Accuracy: 0.8599368609610968\n",
      "C: 0.1, Accuracy: 0.8973502886482747\n",
      "C: 1, Accuracy: 0.9152810662693873\n",
      "C: 10, Accuracy: 0.9224573678469765\n",
      "C: 100, Accuracy: 0.9187284400578183\n",
      "Best C: 10, Best Accuracy: 0.9224573678469765\n"
     ]
    },
    {
     "data": {
      "text/plain": [
       "LogisticRegression(C=10, class_weight='balanced', max_iter=5000, random_state=0)"
      ]
     },
     "execution_count": 21,
     "metadata": {},
     "output_type": "execute_result"
    }
   ],
   "source": [
    "from sklearn.linear_model import LogisticRegression\n",
    "from sklearn.metrics import accuracy_score\n",
    "\n",
    "# Define a range of C values to test\n",
    "C_values = [0.001, 0.01, 0.1, 1, 10, 100]\n",
    "\n",
    "# Initialize the best_C and best_score variables\n",
    "best_C = None\n",
    "best_score = 0\n",
    "\n",
    "# Iterate through the C_values and fit the model with each value\n",
    "for C in C_values:\n",
    "    # Create a Logistic Regression model with the current C value\n",
    "    model = LogisticRegression(max_iter=1500, class_weight = 'balanced', random_state = 0, C=C)\n",
    "    \n",
    "    # Fit the model to the training data\n",
    "    model.fit(xv_train, y_train)\n",
    "    \n",
    "    # Predict the validation data\n",
    "    y_val_pred = model.predict(xv_val)\n",
    "    \n",
    "    # Calculate the accuracy score for the current C value\n",
    "    score = accuracy_score(y_val, y_val_pred)\n",
    "    \n",
    "    # Print the current C value and its accuracy score\n",
    "    print(f\"C: {C}, Accuracy: {score}\")\n",
    "    \n",
    "    # Update the best_C and best_score variables if the current score is higher than the previous best\n",
    "    if score > best_score:\n",
    "        best_C = C\n",
    "        best_score = score\n",
    "\n",
    "# Print the best C value and its accuracy score\n",
    "print(f\"Best C: {best_C}, Best Accuracy: {best_score}\")\n",
    "\n",
    "model = LogisticRegression(max_iter=1500, class_weight = 'balanced', random_state = 0, C=best_C)\n",
    "\n",
    "model.fit(xv_train, y_train)\n"
   ]
  },
  {
   "cell_type": "code",
   "execution_count": null,
   "metadata": {},
   "outputs": [
    {
     "data": {
      "text/plain": [
       "0.9224573678469765"
      ]
     },
     "execution_count": 10,
     "metadata": {},
     "output_type": "execute_result"
    }
   ],
   "source": [
    "# Print the accuracy of the model on the validation data\n",
    "model.score(xv_val,y_val)"
   ]
  },
  {
   "cell_type": "code",
   "execution_count": null,
   "metadata": {},
   "outputs": [],
   "source": [
    "# Predict the class of the validation data\n",
    "pred_model = model.predict(xv_val)"
   ]
  },
  {
   "cell_type": "code",
   "execution_count": null,
   "metadata": {},
   "outputs": [
    {
     "name": "stdout",
     "output_type": "stream",
     "text": [
      "              precision    recall  f1-score   support\n",
      "\n",
      "        fake       0.97      0.93      0.95    338885\n",
      "    reliable       0.81      0.90      0.85    112183\n",
      "\n",
      "    accuracy                           0.92    451068\n",
      "   macro avg       0.89      0.92      0.90    451068\n",
      "weighted avg       0.93      0.92      0.92    451068\n",
      "\n"
     ]
    }
   ],
   "source": [
    "from sklearn.metrics import classification_report\n",
    "\n",
    "# Print the classification report for the model\n",
    "print(classification_report(y_val,pred_model))"
   ]
  },
  {
   "cell_type": "code",
   "execution_count": null,
   "metadata": {},
   "outputs": [
    {
     "data": {
      "image/png": "[encoded data removed]",
      "text/plain": [
       "<Figure size 1000x700 with 2 Axes>"
      ]
     },
     "metadata": {},
     "output_type": "display_data"
    }
   ],
   "source": [
    "import seaborn as sns\n",
    "import matplotlib.pyplot as plt\n",
    "from sklearn.metrics import confusion_matrix\n",
    "\n",
    "# Calculate the confusion matrix\n",
    "conf_mat = confusion_matrix(y_val, pred_model)\n",
    "\n",
    "# Plot the confusion matrix using Seaborn\n",
    "plt.figure(figsize=(10,7))\n",
    "sns.set(font_scale=1.4) # for label size\n",
    "sns.heatmap(conf_mat, annot=True, annot_kws={\"size\": 16}, fmt=\"d\", cmap=\"Blues\", xticklabels=['Fake', 'Reliable'], yticklabels=['Fake', 'Reliable'])\n",
    "\n",
    "plt.xlabel('Predicted Labels')\n",
    "plt.ylabel('True Labels')\n",
    "plt.title('Confusion Matrix')\n",
    "plt.show()\n"
   ]
  },
  {
   "attachments": {},
   "cell_type": "markdown",
   "metadata": {},
   "source": [
    "### Task #2\n",
    "- Consider whether it would make sense to include meta-data features as well. If so, which ones, and why? \n",
    "- If relevant, report performance when including these additional features and compare it to the first baselines. \n",
    "- Discuss whether these results match expectations"
   ]
  },
  {
   "cell_type": "markdown",
   "metadata": {},
   "source": []
  },
  {
   "attachments": {},
   "cell_type": "markdown",
   "metadata": {},
   "source": [
    "For the remainder of the project, we will limit ourselves to main-text data only (i.e. no meta-data). This makes it easier to do the cross-domain experiment in Part 4 (which does not have the same set of meta-data fields)."
   ]
  }
 ],
 "metadata": {
  "kernelspec": {
   "display_name": "base",
   "language": "python",
   "name": "python3"
  },
  "language_info": {
   "codemirror_mode": {
    "name": "ipython",
    "version": 3
   },
   "file_extension": ".py",
   "mimetype": "text/x-python",
   "name": "python",
   "nbconvert_exporter": "python",
   "pygments_lexer": "ipython3",
   "version": "3.9.13"
  },
  "orig_nbformat": 4,
  "vscode": {
   "interpreter": {
    "hash": "008e33b4549f1a0d0ffe974fe84e17b627f351b479525f2395e64f0548f2c8e8"
   }
  }
 },
 "nbformat": 4,
 "nbformat_minor": 2
}
